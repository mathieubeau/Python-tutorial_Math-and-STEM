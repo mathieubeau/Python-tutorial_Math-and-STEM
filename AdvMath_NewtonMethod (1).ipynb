{
  "nbformat": 4,
  "nbformat_minor": 0,
  "metadata": {
    "colab": {
      "provenance": [],
      "toc_visible": true
    },
    "kernelspec": {
      "name": "python3",
      "display_name": "Python 3"
    },
    "language_info": {
      "name": "python"
    }
  },
  "cells": [
    {
      "cell_type": "markdown",
      "source": [
        "# Newton's method"
      ],
      "metadata": {
        "id": "wAt5GroXS5T5"
      }
    },
    {
      "cell_type": "markdown",
      "source": [
        "## Description of the method\n",
        "\n",
        "The idea of the method is to find a numerical approximation of a root of a real-valued continuous and twice-differentiable function $f$. We assume that the function $f$ has a root $x=c$ in the interval $[a,b]$, i.e.,  $f(c)=0$. However, we cannot find the exact value of the root $c$.  \n",
        "\n",
        "To find the root, we use a sequential approach. Let's assume that the function $f$ is an increasing function in the interval $[a,b]$ with $f(a)<0$ and $f(b)>0$ and that the function is concave up, i.e., $f''(x)>0$.\n",
        "\n",
        "Consider the first term of a sequence $x_0=b$ with $f(x_0)=f(b)>0$. The slope of the tagent line at $x_0$ is then positive and given by $f'(x_0)$ and the equation of its tangent line is:\n",
        "$$\n",
        "y = f'(x_0)(x-x_0)+f(x_0)\\ .\n",
        "$$\n",
        "We are now looking for the expression of the x-intercept $x_1$ of the slope. It is the solution to the equation $y=0$:\n",
        "$$\n",
        "f'(x_0)(x_1-x_0)+f(x_0)=0 \\Rightarrow x_1 = x_0 - \\frac{f(x_0)}{f'(x_0)}\\ .\n",
        "$$\n",
        "As the function is concave-up, we can guess from the graph that $c<x_1<x_0$, hence we are getting closer to the root $c$.\n",
        "\n",
        "After repeating this iteraction $n$ times, we find that:\n",
        "$$\n",
        "x_{n+1} = x_n - \\frac{f(x_n)}{f'(x_n)}\\ ,\n",
        "$$\n",
        "where\n",
        "$$\n",
        "c<x_{n+1}<x_n<\\cdots < x_1 < x_0\\ .\n",
        "$$\n",
        "As we see, we are getting closer and closer to the value of the root $c$. We are approaching its value as $n$ increases, without reaching it. But, we can imagine that for a large value of $n$, we will get close enough, in a numerical sense.\n",
        "\n",
        "Notice that the sequence $x_n$ is defined by a recursive relation of the form $x_{n+1} = g(x_n)$, with $g(x_n) = x_n - \\frac{f(x_n)}{f'(x_n)} $.\n"
      ],
      "metadata": {
        "id": "gwAZAwa0S8P7"
      }
    },
    {
      "cell_type": "markdown",
      "source": [
        "## Algorithm - calculation of $\\sqrt{2}$\n",
        "\n",
        "The idea of this method is to find an algorithm to find a nuemrical approximation of the root of a function\n",
        "$$\n",
        "f(x) = x^2-2\\ ,\\ \\geq 0\\ .\n",
        "$$\n",
        "We know that the positive root is $\\sqrt{2}$ and this is one of the example of Newton's method providing a way to find numerical approximation of square roots of real numbers.  \n",
        "\n",
        "We choose the interval $[0,2]$ as we know that $\\sqrt{2}$ is in this interval."
      ],
      "metadata": {
        "id": "LAPjn4mLXa4y"
      }
    },
    {
      "cell_type": "code",
      "execution_count": null,
      "metadata": {
        "colab": {
          "base_uri": "https://localhost:8080/"
        },
        "id": "N1NVUPXmS4ZD",
        "outputId": "455683cb-e071-44a7-9aab-4ae0741841b4"
      },
      "outputs": [
        {
          "output_type": "stream",
          "name": "stdout",
          "text": [
            "1.4142135623730951\n",
            "1.4142135623730951\n"
          ]
        }
      ],
      "source": [
        "# We import numpy to compare our value with the actual value\n",
        "import numpy as np\n",
        "\n",
        "# First, we define the function f(x):\n",
        "def f(x):\n",
        "  return x**2-2\n",
        "# Then, we define its derivative f'(x):\n",
        "def df(x):\n",
        "  return 2*x\n",
        "\n",
        "# Number of iterations:\n",
        "N=5\n",
        "# x0\n",
        "x = 2\n",
        "# iterations:\n",
        "for n in range(N):\n",
        "  x = x - (f(x)/df(x))\n",
        "# Print the final value of xN:\n",
        "print(x)\n",
        "\n",
        "#Compare with the actual value\n",
        "print(np.sqrt(2))\n",
        "\n"
      ]
    },
    {
      "cell_type": "markdown",
      "source": [
        "## Algorithm to find the value of $\\ ^p\\sqrt{a}$\n",
        "\n",
        "To find the p-th root of a real number $a$, we introduce the function:\n",
        "$$\n",
        "f(x) = x^p - a\\ ,\n",
        "$$\n",
        "with\n",
        "$$\n",
        "f'(x) = px^{p-1}\\ .\n",
        "$$\n"
      ],
      "metadata": {
        "id": "s3Nr7wVubilu"
      }
    },
    {
      "cell_type": "code",
      "source": [
        "\n",
        "# We import numpy to compare our value with the actual value\n",
        "import numpy as np\n",
        "\n",
        "# First, we introduce p and a:\n",
        "p = 57\n",
        "a = 1000\n",
        "\n",
        "# We define the function f(x):\n",
        "def f(x):\n",
        "  return x**p-a\n",
        "# Then, we define its derivative f'(x):\n",
        "def df(x):\n",
        "  return p*x**(p-1)\n",
        "\n",
        "# Number of iterations:\n",
        "N=1000\n",
        "# x0\n",
        "x = a\n",
        "# iterations:\n",
        "for n in range(N):\n",
        "  x = x - (f(x)/df(x))\n",
        "# Print the final value of xN:\n",
        "print(x)\n",
        "\n",
        "#Compare with the actual value\n",
        "print((a)**(1/p))"
      ],
      "metadata": {
        "colab": {
          "base_uri": "https://localhost:8080/"
        },
        "id": "oh97fx3bbE81",
        "outputId": "ae97837f-ebfa-49e6-bf54-7696c2b42f53"
      },
      "execution_count": null,
      "outputs": [
        {
          "output_type": "stream",
          "name": "stdout",
          "text": [
            "1.128837891684689\n",
            "1.128837891684689\n"
          ]
        }
      ]
    },
    {
      "cell_type": "code",
      "source": [
        "import numpy as np\n",
        "\n",
        "\n",
        "# We define the function f(x):\n",
        "def f(x):\n",
        "  return x**p-a\n",
        "# Then, we define its derivative f'(x):\n",
        "def df(x):\n",
        "  return p*x**(p-1)\n",
        "\n",
        "def root(N,a,p):\n",
        "  x=a\n",
        "  # iterations:\n",
        "  for n in range(N):\n",
        "    x = x - (f(x)/df(x))\n",
        "  return x\n",
        "\n",
        "N=5\n",
        "a=2023\n",
        "p=17\n",
        "q = (root(N,a,p)-(a)**(1/p))/((a)**(1/p))\n",
        "while q>0.01:\n",
        "  N=N+1\n",
        "  q = (root(N,a,p)-(a)**(1/p))/((a)**(1/p))\n",
        "print(N,root(N,a,p),(a)**(1/p),q)\n"
      ],
      "metadata": {
        "id": "aY6i5iNDcYUG",
        "colab": {
          "base_uri": "https://localhost:8080/"
        },
        "outputId": "417d46d3-a5a1-45bf-e19c-4844708a7d3c"
      },
      "execution_count": null,
      "outputs": [
        {
          "output_type": "stream",
          "name": "stdout",
          "text": [
            "119 1.5786854594411066 1.564841467021764 0.008846897728043136\n"
          ]
        }
      ]
    },
    {
      "cell_type": "code",
      "source": [],
      "metadata": {
        "id": "hCLx6pVyeGRM"
      },
      "execution_count": null,
      "outputs": []
    },
    {
      "cell_type": "markdown",
      "source": [],
      "metadata": {
        "id": "6MdzlME1Lbtw"
      }
    }
  ]
}